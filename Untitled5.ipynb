{
 "metadata": {
  "name": "",
  "signature": "sha256:00732969aa99b14e323d308259e2b9fbfbfdbcf534bdc32f21a232e4f3aa4507"
 },
 "nbformat": 3,
 "nbformat_minor": 0,
 "worksheets": [
  {
   "cells": [
    {
     "cell_type": "heading",
     "level": 1,
     "metadata": {},
     "source": [
      "Fibonacci say\u0131 dizisini veren fonksiyon"
     ]
    },
    {
     "cell_type": "code",
     "collapsed": false,
     "input": [
      "#  Fibonacci serisini (kendinden \u00f6nceki iki say\u0131n\u0131n toplam\u0131n\u0131 bir sonraki say\u0131 olarak atayan seri)\n",
      "# olu\u015ftururken, elde etti\u011fim bilgilere g\u00f6re fonksiyonu tan\u0131mlarken \"def\"ten faydalanmam gerekiyor."
     ],
     "language": "python",
     "metadata": {},
     "outputs": [],
     "prompt_number": 1
    },
    {
     "cell_type": "code",
     "collapsed": false,
     "input": [
      "def fibo(n):\n",
      "    a,b = 0,1\n",
      "    while b<n :\n",
      "        print b,\n",
      "        a,b = b,a+b"
     ],
     "language": "python",
     "metadata": {},
     "outputs": [],
     "prompt_number": 2
    },
    {
     "cell_type": "code",
     "collapsed": false,
     "input": [
      "# fibo fonksiyonumu olu\u015fturdum. Kodda a ve b de\u011fi\u015fkenlerine 0 ve 1'i atad\u0131m.\n",
      "#b<n \u015fart\u0131 sa\u011fland\u0131\u011f\u0131 s\u00fcrece a=b ve b= a+b de\u011ferleri atanarak devam edecek.\n",
      "# Do\u011frulu\u011funu test edelim. \u00d6rne\u011fin, fonksiyon fibo(5000) i\u00e7in \u00e7al\u0131\u015ft\u0131\u011f\u0131nda\n",
      "# 5000'den k\u00fc\u00e7\u00fck Fibonacci say\u0131 dizisi elemanlar\u0131n\u0131 vermelidir."
     ],
     "language": "python",
     "metadata": {},
     "outputs": [],
     "prompt_number": 3
    },
    {
     "cell_type": "code",
     "collapsed": false,
     "input": [
      "fibo (5000)"
     ],
     "language": "python",
     "metadata": {},
     "outputs": [
      {
       "output_type": "stream",
       "stream": "stdout",
       "text": [
        "1 1 2 3 5 8 13 21 34 55 89 144 233 377 610 987 1597 2584 4181\n"
       ]
      }
     ],
     "prompt_number": 4
    },
    {
     "cell_type": "code",
     "collapsed": false,
     "input": [],
     "language": "python",
     "metadata": {},
     "outputs": []
    }
   ],
   "metadata": {}
  }
 ]
}